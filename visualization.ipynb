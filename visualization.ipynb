{
  "cells": [
    {
      "cell_type": "markdown",
      "metadata": {
        "id": "4i78t2QUwAT8"
      },
      "source": [
        "# **Visualización y manejo de datos**\n",
        "Este notebook ha sido creado con la intención de entender el funcionamiento de algunas de las bibliotecas científicas más populares de python, tales como numpy, pandas y matplotlib. Para ello se ha utilizado el dataset [HTRU2](https://archive.ics.uci.edu/ml/machine-learning-databases/00372/HTRU2.zip), que contiene información para la clasificación de candidatos de pulsares."
      ]
    },
    {
      "cell_type": "code",
      "execution_count": 1,
      "metadata": {
        "cellView": "code",
        "colab": {
          "base_uri": "https://localhost:8080/",
          "height": 206
        },
        "id": "GpOHKgLKvhlr",
        "outputId": "22176b5e-914f-4150-ad86-069d817ae36a"
      },
      "outputs": [],
      "source": [
        "import matplotlib.pyplot as plt\n",
        "import pandas as pd\n",
        "import numpy as np"
      ]
    },
    {
      "cell_type": "markdown",
      "metadata": {},
      "source": [
        "Para trabajar con los datos que contiene el dataset se ha creado un DataFrame con la información del archivo csv. La lista *headers* contiene los nombres de cada una de las columnas."
      ]
    },
    {
      "cell_type": "code",
      "execution_count": 2,
      "metadata": {},
      "outputs": [],
      "source": [
        "# El archivo \"HTRU_2.csv\" debe encontrarse en el mismo directorio que este notebook. De no ser así, proporcione\n",
        "# la ubicación del archivo en la variable path.\n",
        "path = \"HTRU/HTRU_2.csv\"\n",
        "headers = ['mean_prof','std_prof','exkurt_prof','skew_prof','mean_curve','std_curve','exkurt_curve','skew_curve','class']\n",
        "data = pd.read_csv(path, names=headers)"
      ]
    },
    {
      "cell_type": "markdown",
      "metadata": {},
      "source": [
        "Visualización de las primeras 5 filas del DataFrame."
      ]
    },
    {
      "cell_type": "code",
      "execution_count": 3,
      "metadata": {},
      "outputs": [
        {
          "data": {
            "text/html": [
              "<div>\n",
              "<style scoped>\n",
              "    .dataframe tbody tr th:only-of-type {\n",
              "        vertical-align: middle;\n",
              "    }\n",
              "\n",
              "    .dataframe tbody tr th {\n",
              "        vertical-align: top;\n",
              "    }\n",
              "\n",
              "    .dataframe thead th {\n",
              "        text-align: right;\n",
              "    }\n",
              "</style>\n",
              "<table border=\"1\" class=\"dataframe\">\n",
              "  <thead>\n",
              "    <tr style=\"text-align: right;\">\n",
              "      <th></th>\n",
              "      <th>mean_prof</th>\n",
              "      <th>std_prof</th>\n",
              "      <th>exkurt_prof</th>\n",
              "      <th>skew_prof</th>\n",
              "      <th>mean_curve</th>\n",
              "      <th>std_curve</th>\n",
              "      <th>exkurt_curve</th>\n",
              "      <th>skew_curve</th>\n",
              "      <th>class</th>\n",
              "    </tr>\n",
              "  </thead>\n",
              "  <tbody>\n",
              "    <tr>\n",
              "      <th>0</th>\n",
              "      <td>140.562500</td>\n",
              "      <td>55.683782</td>\n",
              "      <td>-0.234571</td>\n",
              "      <td>-0.699648</td>\n",
              "      <td>3.199833</td>\n",
              "      <td>19.110426</td>\n",
              "      <td>7.975532</td>\n",
              "      <td>74.242225</td>\n",
              "      <td>0</td>\n",
              "    </tr>\n",
              "    <tr>\n",
              "      <th>1</th>\n",
              "      <td>102.507812</td>\n",
              "      <td>58.882430</td>\n",
              "      <td>0.465318</td>\n",
              "      <td>-0.515088</td>\n",
              "      <td>1.677258</td>\n",
              "      <td>14.860146</td>\n",
              "      <td>10.576487</td>\n",
              "      <td>127.393580</td>\n",
              "      <td>0</td>\n",
              "    </tr>\n",
              "    <tr>\n",
              "      <th>2</th>\n",
              "      <td>103.015625</td>\n",
              "      <td>39.341649</td>\n",
              "      <td>0.323328</td>\n",
              "      <td>1.051164</td>\n",
              "      <td>3.121237</td>\n",
              "      <td>21.744669</td>\n",
              "      <td>7.735822</td>\n",
              "      <td>63.171909</td>\n",
              "      <td>0</td>\n",
              "    </tr>\n",
              "    <tr>\n",
              "      <th>3</th>\n",
              "      <td>136.750000</td>\n",
              "      <td>57.178449</td>\n",
              "      <td>-0.068415</td>\n",
              "      <td>-0.636238</td>\n",
              "      <td>3.642977</td>\n",
              "      <td>20.959280</td>\n",
              "      <td>6.896499</td>\n",
              "      <td>53.593661</td>\n",
              "      <td>0</td>\n",
              "    </tr>\n",
              "    <tr>\n",
              "      <th>4</th>\n",
              "      <td>88.726562</td>\n",
              "      <td>40.672225</td>\n",
              "      <td>0.600866</td>\n",
              "      <td>1.123492</td>\n",
              "      <td>1.178930</td>\n",
              "      <td>11.468720</td>\n",
              "      <td>14.269573</td>\n",
              "      <td>252.567306</td>\n",
              "      <td>0</td>\n",
              "    </tr>\n",
              "  </tbody>\n",
              "</table>\n",
              "</div>"
            ],
            "text/plain": [
              "    mean_prof   std_prof  exkurt_prof  skew_prof  mean_curve  std_curve  \\\n",
              "0  140.562500  55.683782    -0.234571  -0.699648    3.199833  19.110426   \n",
              "1  102.507812  58.882430     0.465318  -0.515088    1.677258  14.860146   \n",
              "2  103.015625  39.341649     0.323328   1.051164    3.121237  21.744669   \n",
              "3  136.750000  57.178449    -0.068415  -0.636238    3.642977  20.959280   \n",
              "4   88.726562  40.672225     0.600866   1.123492    1.178930  11.468720   \n",
              "\n",
              "   exkurt_curve  skew_curve  class  \n",
              "0      7.975532   74.242225      0  \n",
              "1     10.576487  127.393580      0  \n",
              "2      7.735822   63.171909      0  \n",
              "3      6.896499   53.593661      0  \n",
              "4     14.269573  252.567306      0  "
            ]
          },
          "execution_count": 3,
          "metadata": {},
          "output_type": "execute_result"
        }
      ],
      "source": [
        "data.head()"
      ]
    },
    {
      "cell_type": "markdown",
      "metadata": {},
      "source": [
        "Para analizar cada una de las clases por separado, se han creado 2 nuevos DataFrames a partir *data*. La clase 0 representa a los objetos que no son pulsares, mientras que la clase 1 a los objetos que sí lo son."
      ]
    },
    {
      "cell_type": "code",
      "execution_count": 4,
      "metadata": {
        "id": "sm0O1cRtcbuL"
      },
      "outputs": [],
      "source": [
        "no_pulsar = data.loc[data['class'] == 0]\n",
        "pulsar = data.loc[data['class'] == 1]"
      ]
    },
    {
      "cell_type": "markdown",
      "metadata": {},
      "source": [
        "El dataset original se compone de 8 características y 1 clase. Para visualizar la distribución de cada característica de acuerdo a su clase, se ha generado su histograma respectivo. Cada figura generada muestra los histogramas normalizados de una característica para cada clase."
      ]
    },
    {
      "cell_type": "code",
      "execution_count": 5,
      "metadata": {
        "colab": {
          "base_uri": "https://localhost:8080/",
          "height": 296
        },
        "id": "mDaV3DxiuMnz",
        "outputId": "5e61716c-82c0-4bec-99a1-5ad6d7d25797"
      },
      "outputs": [
        {
          "data": {
            "image/png": "[encoded data removed]",
            "text/plain": [
              "<Figure size 432x288 with 1 Axes>"
            ]
          },
          "metadata": {
            "needs_background": "light"
          },
          "output_type": "display_data"
        },
        {
          "data": {
            "image/png": "[encoded data removed]",
            "text/plain": [
              "<Figure size 432x288 with 1 Axes>"
            ]
          },
          "metadata": {
            "needs_background": "light"
          },
          "output_type": "display_data"
        },
        {
          "data": {
            "image/png": "[encoded data removed]",
            "text/plain": [
              "<Figure size 432x288 with 1 Axes>"
            ]
          },
          "metadata": {
            "needs_background": "light"
          },
          "output_type": "display_data"
        },
        {
          "data": {
            "image/png": "[encoded data removed]",
            "text/plain": [
              "<Figure size 432x288 with 1 Axes>"
            ]
          },
          "metadata": {
            "needs_background": "light"
          },
          "output_type": "display_data"
        },
        {
          "data": {
            "image/png": "[encoded data removed]",
            "text/plain": [
              "<Figure size 432x288 with 1 Axes>"
            ]
          },
          "metadata": {
            "needs_background": "light"
          },
          "output_type": "display_data"
        },
        {
          "data": {
            "image/png": "[encoded data removed]",
            "text/plain": [
              "<Figure size 432x288 with 1 Axes>"
            ]
          },
          "metadata": {
            "needs_background": "light"
          },
          "output_type": "display_data"
        },
        {
          "data": {
            "image/png": "[encoded data removed]",
            "text/plain": [
              "<Figure size 432x288 with 1 Axes>"
            ]
          },
          "metadata": {
            "needs_background": "light"
          },
          "output_type": "display_data"
        },
        {
          "data": {
            "image/png": "[encoded data removed]",
            "text/plain": [
              "<Figure size 432x288 with 1 Axes>"
            ]
          },
          "metadata": {
            "needs_background": "light"
          },
          "output_type": "display_data"
        }
      ],
      "source": [
        "for i in range(len(headers)-1):\n",
        "    ax = plt.subplot()\n",
        "    ax.hist(no_pulsar[headers[i]], 50, alpha=0.8, density=True, label='No Pulsar')\n",
        "    ax.hist(pulsar[headers[i]], 50, alpha=0.8, density=True, label='Pulsar')\n",
        "    ax.set_xlabel(headers[i])\n",
        "    ax.set_ylabel('Cantidad de muestras')\n",
        "    ax.set_title(f'Histograma normalizado de {headers[i]} según clase')\n",
        "    ax.legend()\n",
        "    ax.grid(True)\n",
        "    plt.show()"
      ]
    },
    {
      "cell_type": "markdown",
      "metadata": {},
      "source": [
        "Además de la media y la varianza, otras medidas que podrían resultar útiles corresponden al skewness y la kurtosis. Para obtener estas medidas basta con utilizar los métodos correspondientes que se encuentran en el módulo pandas."
      ]
    },
    {
      "cell_type": "code",
      "execution_count": 6,
      "metadata": {
        "colab": {
          "base_uri": "https://localhost:8080/",
          "height": 175
        },
        "id": "xr1QVyg5UOuO",
        "outputId": "f94a7298-e554-444b-b145-2469c5c34273"
      },
      "outputs": [
        {
          "data": {
            "text/html": [
              "<div>\n",
              "<style scoped>\n",
              "    .dataframe tbody tr th:only-of-type {\n",
              "        vertical-align: middle;\n",
              "    }\n",
              "\n",
              "    .dataframe tbody tr th {\n",
              "        vertical-align: top;\n",
              "    }\n",
              "\n",
              "    .dataframe thead th {\n",
              "        text-align: right;\n",
              "    }\n",
              "</style>\n",
              "<table border=\"1\" class=\"dataframe\">\n",
              "  <thead>\n",
              "    <tr style=\"text-align: right;\">\n",
              "      <th></th>\n",
              "      <th>mean_prof</th>\n",
              "      <th>std_prof</th>\n",
              "      <th>exkurt_prof</th>\n",
              "      <th>skew_prof</th>\n",
              "      <th>mean_curve</th>\n",
              "      <th>std_curve</th>\n",
              "      <th>exkurt_curve</th>\n",
              "      <th>skew_curve</th>\n",
              "    </tr>\n",
              "  </thead>\n",
              "  <tbody>\n",
              "    <tr>\n",
              "      <th>no_pulsar_skewness</th>\n",
              "      <td>-0.104386</td>\n",
              "      <td>0.427126</td>\n",
              "      <td>0.971401</td>\n",
              "      <td>4.545891</td>\n",
              "      <td>5.038468</td>\n",
              "      <td>2.581859</td>\n",
              "      <td>0.534252</td>\n",
              "      <td>2.767688</td>\n",
              "    </tr>\n",
              "    <tr>\n",
              "      <th>no_pulsar_kurtosis</th>\n",
              "      <td>0.366312</td>\n",
              "      <td>2.353630</td>\n",
              "      <td>11.377569</td>\n",
              "      <td>59.247420</td>\n",
              "      <td>27.204574</td>\n",
              "      <td>6.746908</td>\n",
              "      <td>2.260259</td>\n",
              "      <td>13.630239</td>\n",
              "    </tr>\n",
              "    <tr>\n",
              "      <th>pulsar_skewness</th>\n",
              "      <td>0.308597</td>\n",
              "      <td>1.036542</td>\n",
              "      <td>0.306437</td>\n",
              "      <td>0.942712</td>\n",
              "      <td>0.963258</td>\n",
              "      <td>-0.363589</td>\n",
              "      <td>2.271182</td>\n",
              "      <td>8.115754</td>\n",
              "    </tr>\n",
              "    <tr>\n",
              "      <th>pulsar_kurtosis</th>\n",
              "      <td>-0.808386</td>\n",
              "      <td>1.661709</td>\n",
              "      <td>-0.880170</td>\n",
              "      <td>0.182500</td>\n",
              "      <td>-0.053478</td>\n",
              "      <td>-0.464914</td>\n",
              "      <td>8.627646</td>\n",
              "      <td>110.558305</td>\n",
              "    </tr>\n",
              "  </tbody>\n",
              "</table>\n",
              "</div>"
            ],
            "text/plain": [
              "                    mean_prof  std_prof  exkurt_prof  skew_prof  mean_curve  \\\n",
              "no_pulsar_skewness  -0.104386  0.427126     0.971401   4.545891    5.038468   \n",
              "no_pulsar_kurtosis   0.366312  2.353630    11.377569  59.247420   27.204574   \n",
              "pulsar_skewness      0.308597  1.036542     0.306437   0.942712    0.963258   \n",
              "pulsar_kurtosis     -0.808386  1.661709    -0.880170   0.182500   -0.053478   \n",
              "\n",
              "                    std_curve  exkurt_curve  skew_curve  \n",
              "no_pulsar_skewness   2.581859      0.534252    2.767688  \n",
              "no_pulsar_kurtosis   6.746908      2.260259   13.630239  \n",
              "pulsar_skewness     -0.363589      2.271182    8.115754  \n",
              "pulsar_kurtosis     -0.464914      8.627646  110.558305  "
            ]
          },
          "execution_count": 6,
          "metadata": {},
          "output_type": "execute_result"
        }
      ],
      "source": [
        "stats_index = ['no_pulsar_skewness', 'no_pulsar_kurtosis', 'pulsar_skewness', 'pulsar_kurtosis']\n",
        "\n",
        "stats_data = np.empty((4, 8))\n",
        "stats_data[0] = no_pulsar.skew().drop('class')\n",
        "stats_data[1] = no_pulsar.kurtosis().drop('class')\n",
        "stats_data[2] = pulsar.skew().drop('class')\n",
        "stats_data[3] = pulsar.kurtosis().drop('class')\n",
        "\n",
        "stats = pd.DataFrame(stats_data, index=stats_index, columns=headers[0:-1])\n",
        "stats"
      ]
    },
    {
      "cell_type": "markdown",
      "metadata": {},
      "source": [
        "Otro tipo de información relevante para la construcción de un modelo corresponde a la correlación entre datos. En este caso, resulta interesante conocer cuál es la correlación entre cada columna del dataset, por lo que se ha implementado una función capaz de entregar esta información.\n",
        "\n",
        "La intención de esta decisión a pesar de la existencia de un método que ya entrega los datos que se buscan, corresponde a conocer de primera fuente cómo se obtiene este valor."
      ]
    },
    {
      "cell_type": "code",
      "execution_count": 7,
      "metadata": {
        "id": "e5Xhu6tYqd_3"
      },
      "outputs": [],
      "source": [
        "def correlation_matrix(DataFrame):\n",
        "  length = len(headers)\n",
        "\n",
        "  # Vector de medias. Cada elemento es la media de una columna\n",
        "  u = np.zeros(length)\n",
        "\n",
        "  # Vector de desviaciones estándar. Cada elemento es la d.e. de una columna\n",
        "  s = np.zeros(length)\n",
        "\n",
        "  for i in range(length):\n",
        "    # Se utiliza el promedio como estimador\n",
        "    u[i] = np.mean(DataFrame[headers[i]])\n",
        "\n",
        "    # Se utiliza el estimador sesgado de la desviación estándar\n",
        "    s[i] = np.sqrt(np.mean((DataFrame[headers[i]] - u[i])**2))\n",
        "\n",
        "  # Matriz de correlaciones\n",
        "  corr = np.zeros((length, length))\n",
        "  for j in range(length):\n",
        "    # La correlación de una variable consigo misma es 1\n",
        "    corr[j,j] = 1.0\n",
        "\n",
        "    for i in range(j+1, length):\n",
        "      # Estimador para cada elemento de la matriz de correlación\n",
        "      corr[i,j] = np.mean((DataFrame[headers[i]] - u[i])*(DataFrame[headers[j]] - u[j]))/(s[i]*s[j])\n",
        "      # La matriz de correlación es simétrica\n",
        "      corr[j,i] = corr[i,j]\n",
        "  \n",
        "  #Se convierte el arreglo de numpy a un DataFrame\n",
        "  corrDataFrame = pd.DataFrame(data=corr, index=headers, columns=headers)\n",
        "  return corrDataFrame"
      ]
    },
    {
      "cell_type": "markdown",
      "metadata": {},
      "source": [
        "La siguiente celda muestra el resultado de la función sobre el set de datos."
      ]
    },
    {
      "cell_type": "code",
      "execution_count": 8,
      "metadata": {
        "colab": {
          "base_uri": "https://localhost:8080/",
          "height": 332
        },
        "id": "kxyZmLKZ8c_M",
        "outputId": "9e972025-9cda-469f-9cef-81b3d377ec14"
      },
      "outputs": [
        {
          "data": {
            "text/html": [
              "<div>\n",
              "<style scoped>\n",
              "    .dataframe tbody tr th:only-of-type {\n",
              "        vertical-align: middle;\n",
              "    }\n",
              "\n",
              "    .dataframe tbody tr th {\n",
              "        vertical-align: top;\n",
              "    }\n",
              "\n",
              "    .dataframe thead th {\n",
              "        text-align: right;\n",
              "    }\n",
              "</style>\n",
              "<table border=\"1\" class=\"dataframe\">\n",
              "  <thead>\n",
              "    <tr style=\"text-align: right;\">\n",
              "      <th></th>\n",
              "      <th>mean_prof</th>\n",
              "      <th>std_prof</th>\n",
              "      <th>exkurt_prof</th>\n",
              "      <th>skew_prof</th>\n",
              "      <th>mean_curve</th>\n",
              "      <th>std_curve</th>\n",
              "      <th>exkurt_curve</th>\n",
              "      <th>skew_curve</th>\n",
              "      <th>class</th>\n",
              "    </tr>\n",
              "  </thead>\n",
              "  <tbody>\n",
              "    <tr>\n",
              "      <th>mean_prof</th>\n",
              "      <td>1.000000</td>\n",
              "      <td>0.547137</td>\n",
              "      <td>-0.873898</td>\n",
              "      <td>-0.738775</td>\n",
              "      <td>-0.298841</td>\n",
              "      <td>-0.307016</td>\n",
              "      <td>0.234331</td>\n",
              "      <td>0.144033</td>\n",
              "      <td>-0.673181</td>\n",
              "    </tr>\n",
              "    <tr>\n",
              "      <th>std_prof</th>\n",
              "      <td>0.547137</td>\n",
              "      <td>1.000000</td>\n",
              "      <td>-0.521435</td>\n",
              "      <td>-0.539793</td>\n",
              "      <td>0.006869</td>\n",
              "      <td>-0.047632</td>\n",
              "      <td>0.029429</td>\n",
              "      <td>0.027691</td>\n",
              "      <td>-0.363708</td>\n",
              "    </tr>\n",
              "    <tr>\n",
              "      <th>exkurt_prof</th>\n",
              "      <td>-0.873898</td>\n",
              "      <td>-0.521435</td>\n",
              "      <td>1.000000</td>\n",
              "      <td>0.945729</td>\n",
              "      <td>0.414368</td>\n",
              "      <td>0.432880</td>\n",
              "      <td>-0.341209</td>\n",
              "      <td>-0.214491</td>\n",
              "      <td>0.791591</td>\n",
              "    </tr>\n",
              "    <tr>\n",
              "      <th>skew_prof</th>\n",
              "      <td>-0.738775</td>\n",
              "      <td>-0.539793</td>\n",
              "      <td>0.945729</td>\n",
              "      <td>1.000000</td>\n",
              "      <td>0.412056</td>\n",
              "      <td>0.415140</td>\n",
              "      <td>-0.328843</td>\n",
              "      <td>-0.204782</td>\n",
              "      <td>0.709528</td>\n",
              "    </tr>\n",
              "    <tr>\n",
              "      <th>mean_curve</th>\n",
              "      <td>-0.298841</td>\n",
              "      <td>0.006869</td>\n",
              "      <td>0.414368</td>\n",
              "      <td>0.412056</td>\n",
              "      <td>1.000000</td>\n",
              "      <td>0.796555</td>\n",
              "      <td>-0.615971</td>\n",
              "      <td>-0.354269</td>\n",
              "      <td>0.400876</td>\n",
              "    </tr>\n",
              "    <tr>\n",
              "      <th>std_curve</th>\n",
              "      <td>-0.307016</td>\n",
              "      <td>-0.047632</td>\n",
              "      <td>0.432880</td>\n",
              "      <td>0.415140</td>\n",
              "      <td>0.796555</td>\n",
              "      <td>1.000000</td>\n",
              "      <td>-0.809786</td>\n",
              "      <td>-0.575800</td>\n",
              "      <td>0.491535</td>\n",
              "    </tr>\n",
              "    <tr>\n",
              "      <th>exkurt_curve</th>\n",
              "      <td>0.234331</td>\n",
              "      <td>0.029429</td>\n",
              "      <td>-0.341209</td>\n",
              "      <td>-0.328843</td>\n",
              "      <td>-0.615971</td>\n",
              "      <td>-0.809786</td>\n",
              "      <td>1.000000</td>\n",
              "      <td>0.923743</td>\n",
              "      <td>-0.390816</td>\n",
              "    </tr>\n",
              "    <tr>\n",
              "      <th>skew_curve</th>\n",
              "      <td>0.144033</td>\n",
              "      <td>0.027691</td>\n",
              "      <td>-0.214491</td>\n",
              "      <td>-0.204782</td>\n",
              "      <td>-0.354269</td>\n",
              "      <td>-0.575800</td>\n",
              "      <td>0.923743</td>\n",
              "      <td>1.000000</td>\n",
              "      <td>-0.259117</td>\n",
              "    </tr>\n",
              "    <tr>\n",
              "      <th>class</th>\n",
              "      <td>-0.673181</td>\n",
              "      <td>-0.363708</td>\n",
              "      <td>0.791591</td>\n",
              "      <td>0.709528</td>\n",
              "      <td>0.400876</td>\n",
              "      <td>0.491535</td>\n",
              "      <td>-0.390816</td>\n",
              "      <td>-0.259117</td>\n",
              "      <td>1.000000</td>\n",
              "    </tr>\n",
              "  </tbody>\n",
              "</table>\n",
              "</div>"
            ],
            "text/plain": [
              "              mean_prof  std_prof  exkurt_prof  skew_prof  mean_curve  \\\n",
              "mean_prof      1.000000  0.547137    -0.873898  -0.738775   -0.298841   \n",
              "std_prof       0.547137  1.000000    -0.521435  -0.539793    0.006869   \n",
              "exkurt_prof   -0.873898 -0.521435     1.000000   0.945729    0.414368   \n",
              "skew_prof     -0.738775 -0.539793     0.945729   1.000000    0.412056   \n",
              "mean_curve    -0.298841  0.006869     0.414368   0.412056    1.000000   \n",
              "std_curve     -0.307016 -0.047632     0.432880   0.415140    0.796555   \n",
              "exkurt_curve   0.234331  0.029429    -0.341209  -0.328843   -0.615971   \n",
              "skew_curve     0.144033  0.027691    -0.214491  -0.204782   -0.354269   \n",
              "class         -0.673181 -0.363708     0.791591   0.709528    0.400876   \n",
              "\n",
              "              std_curve  exkurt_curve  skew_curve     class  \n",
              "mean_prof     -0.307016      0.234331    0.144033 -0.673181  \n",
              "std_prof      -0.047632      0.029429    0.027691 -0.363708  \n",
              "exkurt_prof    0.432880     -0.341209   -0.214491  0.791591  \n",
              "skew_prof      0.415140     -0.328843   -0.204782  0.709528  \n",
              "mean_curve     0.796555     -0.615971   -0.354269  0.400876  \n",
              "std_curve      1.000000     -0.809786   -0.575800  0.491535  \n",
              "exkurt_curve  -0.809786      1.000000    0.923743 -0.390816  \n",
              "skew_curve    -0.575800      0.923743    1.000000 -0.259117  \n",
              "class          0.491535     -0.390816   -0.259117  1.000000  "
            ]
          },
          "execution_count": 8,
          "metadata": {},
          "output_type": "execute_result"
        }
      ],
      "source": [
        "MyCorr = correlation_matrix(data)\n",
        "MyCorr"
      ]
    },
    {
      "cell_type": "markdown",
      "metadata": {},
      "source": [
        "A modo de comparación, se calcula la diferencia entre la matriz obtenida con el método *corr* de la clase DataFrame. Se puede notar que la mayor diferencia es del orden de $10^{-14}$."
      ]
    },
    {
      "cell_type": "code",
      "execution_count": 9,
      "metadata": {
        "colab": {
          "base_uri": "https://localhost:8080/",
          "height": 332
        },
        "id": "DsBHY9duX1Zi",
        "outputId": "5cf43a22-71ee-441d-874c-72599ba45e6c"
      },
      "outputs": [
        {
          "data": {
            "text/html": [
              "<div>\n",
              "<style scoped>\n",
              "    .dataframe tbody tr th:only-of-type {\n",
              "        vertical-align: middle;\n",
              "    }\n",
              "\n",
              "    .dataframe tbody tr th {\n",
              "        vertical-align: top;\n",
              "    }\n",
              "\n",
              "    .dataframe thead th {\n",
              "        text-align: right;\n",
              "    }\n",
              "</style>\n",
              "<table border=\"1\" class=\"dataframe\">\n",
              "  <thead>\n",
              "    <tr style=\"text-align: right;\">\n",
              "      <th></th>\n",
              "      <th>mean_prof</th>\n",
              "      <th>std_prof</th>\n",
              "      <th>exkurt_prof</th>\n",
              "      <th>skew_prof</th>\n",
              "      <th>mean_curve</th>\n",
              "      <th>std_curve</th>\n",
              "      <th>exkurt_curve</th>\n",
              "      <th>skew_curve</th>\n",
              "      <th>class</th>\n",
              "    </tr>\n",
              "  </thead>\n",
              "  <tbody>\n",
              "    <tr>\n",
              "      <th>mean_prof</th>\n",
              "      <td>0.000000e+00</td>\n",
              "      <td>1.110223e-16</td>\n",
              "      <td>2.331468e-15</td>\n",
              "      <td>-6.661338e-16</td>\n",
              "      <td>7.216450e-16</td>\n",
              "      <td>-2.720046e-15</td>\n",
              "      <td>5.551115e-17</td>\n",
              "      <td>-5.273559e-16</td>\n",
              "      <td>1.010303e-14</td>\n",
              "    </tr>\n",
              "    <tr>\n",
              "      <th>std_prof</th>\n",
              "      <td>1.110223e-16</td>\n",
              "      <td>0.000000e+00</td>\n",
              "      <td>-2.664535e-15</td>\n",
              "      <td>3.552714e-15</td>\n",
              "      <td>-4.345482e-16</td>\n",
              "      <td>-9.575674e-16</td>\n",
              "      <td>2.428613e-16</td>\n",
              "      <td>3.469447e-16</td>\n",
              "      <td>5.551115e-16</td>\n",
              "    </tr>\n",
              "    <tr>\n",
              "      <th>exkurt_prof</th>\n",
              "      <td>2.331468e-15</td>\n",
              "      <td>-2.664535e-15</td>\n",
              "      <td>0.000000e+00</td>\n",
              "      <td>1.332268e-14</td>\n",
              "      <td>1.720846e-15</td>\n",
              "      <td>-1.387779e-15</td>\n",
              "      <td>-2.164935e-15</td>\n",
              "      <td>2.164935e-15</td>\n",
              "      <td>-2.142730e-14</td>\n",
              "    </tr>\n",
              "    <tr>\n",
              "      <th>skew_prof</th>\n",
              "      <td>-6.661338e-16</td>\n",
              "      <td>3.552714e-15</td>\n",
              "      <td>1.332268e-14</td>\n",
              "      <td>0.000000e+00</td>\n",
              "      <td>2.220446e-16</td>\n",
              "      <td>6.161738e-15</td>\n",
              "      <td>-3.164136e-15</td>\n",
              "      <td>8.049117e-16</td>\n",
              "      <td>-6.217249e-15</td>\n",
              "    </tr>\n",
              "    <tr>\n",
              "      <th>mean_curve</th>\n",
              "      <td>7.216450e-16</td>\n",
              "      <td>-4.345482e-16</td>\n",
              "      <td>1.720846e-15</td>\n",
              "      <td>2.220446e-16</td>\n",
              "      <td>0.000000e+00</td>\n",
              "      <td>4.218847e-15</td>\n",
              "      <td>2.997602e-15</td>\n",
              "      <td>-1.998401e-15</td>\n",
              "      <td>-5.162537e-15</td>\n",
              "    </tr>\n",
              "    <tr>\n",
              "      <th>std_curve</th>\n",
              "      <td>-2.720046e-15</td>\n",
              "      <td>-9.575674e-16</td>\n",
              "      <td>-1.387779e-15</td>\n",
              "      <td>6.161738e-15</td>\n",
              "      <td>4.218847e-15</td>\n",
              "      <td>0.000000e+00</td>\n",
              "      <td>1.665335e-15</td>\n",
              "      <td>4.884981e-15</td>\n",
              "      <td>-8.659740e-15</td>\n",
              "    </tr>\n",
              "    <tr>\n",
              "      <th>exkurt_curve</th>\n",
              "      <td>5.551115e-17</td>\n",
              "      <td>2.428613e-16</td>\n",
              "      <td>-2.164935e-15</td>\n",
              "      <td>-3.164136e-15</td>\n",
              "      <td>2.997602e-15</td>\n",
              "      <td>1.665335e-15</td>\n",
              "      <td>0.000000e+00</td>\n",
              "      <td>1.554312e-15</td>\n",
              "      <td>4.218847e-15</td>\n",
              "    </tr>\n",
              "    <tr>\n",
              "      <th>skew_curve</th>\n",
              "      <td>-5.273559e-16</td>\n",
              "      <td>3.469447e-16</td>\n",
              "      <td>2.164935e-15</td>\n",
              "      <td>8.049117e-16</td>\n",
              "      <td>-1.998401e-15</td>\n",
              "      <td>4.884981e-15</td>\n",
              "      <td>1.554312e-15</td>\n",
              "      <td>0.000000e+00</td>\n",
              "      <td>4.884981e-15</td>\n",
              "    </tr>\n",
              "    <tr>\n",
              "      <th>class</th>\n",
              "      <td>1.010303e-14</td>\n",
              "      <td>5.551115e-16</td>\n",
              "      <td>-2.142730e-14</td>\n",
              "      <td>-6.217249e-15</td>\n",
              "      <td>-5.162537e-15</td>\n",
              "      <td>-8.659740e-15</td>\n",
              "      <td>4.218847e-15</td>\n",
              "      <td>4.884981e-15</td>\n",
              "      <td>0.000000e+00</td>\n",
              "    </tr>\n",
              "  </tbody>\n",
              "</table>\n",
              "</div>"
            ],
            "text/plain": [
              "                 mean_prof      std_prof   exkurt_prof     skew_prof  \\\n",
              "mean_prof     0.000000e+00  1.110223e-16  2.331468e-15 -6.661338e-16   \n",
              "std_prof      1.110223e-16  0.000000e+00 -2.664535e-15  3.552714e-15   \n",
              "exkurt_prof   2.331468e-15 -2.664535e-15  0.000000e+00  1.332268e-14   \n",
              "skew_prof    -6.661338e-16  3.552714e-15  1.332268e-14  0.000000e+00   \n",
              "mean_curve    7.216450e-16 -4.345482e-16  1.720846e-15  2.220446e-16   \n",
              "std_curve    -2.720046e-15 -9.575674e-16 -1.387779e-15  6.161738e-15   \n",
              "exkurt_curve  5.551115e-17  2.428613e-16 -2.164935e-15 -3.164136e-15   \n",
              "skew_curve   -5.273559e-16  3.469447e-16  2.164935e-15  8.049117e-16   \n",
              "class         1.010303e-14  5.551115e-16 -2.142730e-14 -6.217249e-15   \n",
              "\n",
              "                mean_curve     std_curve  exkurt_curve    skew_curve  \\\n",
              "mean_prof     7.216450e-16 -2.720046e-15  5.551115e-17 -5.273559e-16   \n",
              "std_prof     -4.345482e-16 -9.575674e-16  2.428613e-16  3.469447e-16   \n",
              "exkurt_prof   1.720846e-15 -1.387779e-15 -2.164935e-15  2.164935e-15   \n",
              "skew_prof     2.220446e-16  6.161738e-15 -3.164136e-15  8.049117e-16   \n",
              "mean_curve    0.000000e+00  4.218847e-15  2.997602e-15 -1.998401e-15   \n",
              "std_curve     4.218847e-15  0.000000e+00  1.665335e-15  4.884981e-15   \n",
              "exkurt_curve  2.997602e-15  1.665335e-15  0.000000e+00  1.554312e-15   \n",
              "skew_curve   -1.998401e-15  4.884981e-15  1.554312e-15  0.000000e+00   \n",
              "class        -5.162537e-15 -8.659740e-15  4.218847e-15  4.884981e-15   \n",
              "\n",
              "                     class  \n",
              "mean_prof     1.010303e-14  \n",
              "std_prof      5.551115e-16  \n",
              "exkurt_prof  -2.142730e-14  \n",
              "skew_prof    -6.217249e-15  \n",
              "mean_curve   -5.162537e-15  \n",
              "std_curve    -8.659740e-15  \n",
              "exkurt_curve  4.218847e-15  \n",
              "skew_curve    4.884981e-15  \n",
              "class         0.000000e+00  "
            ]
          },
          "execution_count": 9,
          "metadata": {},
          "output_type": "execute_result"
        }
      ],
      "source": [
        "pdCorr = data.corr()\n",
        "MyCorr - pdCorr"
      ]
    },
    {
      "cell_type": "markdown",
      "metadata": {},
      "source": [
        "A modo de ejemplo, se pueden ordenar de forma ascendente todas las características de acuerdo a su correlación con la clase de los datos."
      ]
    },
    {
      "cell_type": "code",
      "execution_count": 10,
      "metadata": {
        "colab": {
          "base_uri": "https://localhost:8080/",
          "height": 201
        },
        "id": "TTixcahoG4vC",
        "outputId": "0369837e-2edf-491d-c850-444477f0217e"
      },
      "outputs": [
        {
          "data": {
            "text/plain": [
              "class           1.000000\n",
              "exkurt_prof     0.791591\n",
              "skew_prof       0.709528\n",
              "mean_prof      -0.673181\n",
              "std_curve       0.491535\n",
              "mean_curve      0.400876\n",
              "exkurt_curve   -0.390816\n",
              "std_prof       -0.363708\n",
              "skew_curve     -0.259117\n",
              "Name: class, dtype: float64"
            ]
          },
          "execution_count": 10,
          "metadata": {},
          "output_type": "execute_result"
        }
      ],
      "source": [
        "class_corr = MyCorr.loc['class']\n",
        "sorted_class_corr = class_corr.reindex(class_corr.abs().sort_values(ascending=False).index)\n",
        "sorted_class_corr"
      ]
    },
    {
      "cell_type": "markdown",
      "metadata": {},
      "source": [
        "Por otra parte, también es interesante conocer cuáles son los pares de datos más y menos correlacionados entre sí."
      ]
    },
    {
      "cell_type": "code",
      "execution_count": 11,
      "metadata": {
        "colab": {
          "base_uri": "https://localhost:8080/",
          "height": 127
        },
        "id": "G-tSiVqLcEnd",
        "outputId": "8352489b-79c4-4706-cc04-a708fe40d4a8"
      },
      "outputs": [],
      "source": [
        "def correlated_pairs(corrMatrix, num_elements, ascending=False):\n",
        "  length = len(headers)\n",
        "  # Convierte el DataFrame en Series, donde cada índice es un par (index, column).\n",
        "  stacked_corr = corrMatrix.stack()\n",
        "\n",
        "  # Ordena el objeto sorted_corr de forma ascendente si \"ascending\" es False, y descendente en caso contrario.\n",
        "  sorted_corr = stacked_corr.reindex(stacked_corr.abs().sort_values(ascending=ascending).index)\n",
        "\n",
        "  # Se eliminan las correlaciones entre datos consigo mismos.\n",
        "  if ascending:\n",
        "    sorted_corr = sorted_corr.drop(sorted_corr.index[-length:])\n",
        "  else:\n",
        "    sorted_corr = sorted_corr.drop(sorted_corr.index[0:length])\n",
        "\n",
        "  # Al ser simétrica la matriz de correlación, los datos fuera de la diagonal están duplicados.\n",
        "  # Elimina todos los duplicados.\n",
        "  sorted_corr = sorted_corr.drop(sorted_corr.index[0:length*(length-1):2])\n",
        "  \n",
        "  # Selecciona los n primeros elementos.\n",
        "  n_first = sorted_corr.head(num_elements)\n",
        "  return n_first"
      ]
    },
    {
      "cell_type": "markdown",
      "metadata": {},
      "source": [
        "Ahora para conocer los 5 pares de datos más correlacionados sólo se necesita utilizar la función recién definida."
      ]
    },
    {
      "cell_type": "code",
      "execution_count": 12,
      "metadata": {},
      "outputs": [
        {
          "data": {
            "text/plain": [
              "exkurt_prof   skew_prof      0.945729\n",
              "exkurt_curve  skew_curve     0.923743\n",
              "mean_prof     exkurt_prof   -0.873898\n",
              "exkurt_curve  std_curve     -0.809786\n",
              "mean_curve    std_curve      0.796555\n",
              "dtype: float64"
            ]
          },
          "execution_count": 12,
          "metadata": {},
          "output_type": "execute_result"
        }
      ],
      "source": [
        "correlated = correlated_pairs(MyCorr, 5)\n",
        "correlated"
      ]
    },
    {
      "cell_type": "markdown",
      "metadata": {},
      "source": [
        "Un scatter plot entre pares de datos permite dilucidar visualmente si existe correlación alguna. Por ejemplo, para el par de datos con la mayor correlación se puede ver que efectivamente existe una correlación, aunque no entrega el valor de la misma."
      ]
    },
    {
      "cell_type": "code",
      "execution_count": 13,
      "metadata": {
        "colab": {
          "base_uri": "https://localhost:8080/",
          "height": 296
        },
        "id": "dVmqLm7UZfw7",
        "outputId": "7f4779fa-4522-485b-8872-0c6d41265555"
      },
      "outputs": [
        {
          "data": {
            "image/png": "[encoded data removed]",
            "text/plain": [
              "<Figure size 432x288 with 1 Axes>"
            ]
          },
          "metadata": {
            "needs_background": "light"
          },
          "output_type": "display_data"
        }
      ],
      "source": [
        "corr_feature1, corr_feature2 = correlated.index[0]\n",
        "\n",
        "ax = plt.subplot()\n",
        "ax.scatter(data[corr_feature1], data[corr_feature2])\n",
        "ax.set_xlabel(corr_feature1)\n",
        "ax.set_ylabel(corr_feature2)\n",
        "ax.set_title('Diagrama de dispersión')\n",
        "ax.grid(True)\n",
        "plt.show()"
      ]
    },
    {
      "cell_type": "markdown",
      "metadata": {},
      "source": [
        "Análogamente, para conocer los 5 pares de datos menos correlacionados sólo basta con entregar el parámetro *ascending*."
      ]
    },
    {
      "cell_type": "code",
      "execution_count": 14,
      "metadata": {},
      "outputs": [
        {
          "data": {
            "text/plain": [
              "std_prof      mean_curve    0.006869\n",
              "              skew_curve    0.027691\n",
              "exkurt_curve  std_prof      0.029429\n",
              "std_prof      std_curve    -0.047632\n",
              "skew_curve    mean_prof     0.144033\n",
              "dtype: float64"
            ]
          },
          "execution_count": 14,
          "metadata": {},
          "output_type": "execute_result"
        }
      ],
      "source": [
        "not_correlated = correlated_pairs(MyCorr, 5, ascending=True)\n",
        "not_correlated"
      ]
    },
    {
      "cell_type": "markdown",
      "metadata": {},
      "source": [
        "Finalmente, un scatter plot también puede entregar indicios sobre una baja o nula correlación entre datos, tal y como ocurre con el par de datos menos correlacionados del dataset."
      ]
    },
    {
      "cell_type": "code",
      "execution_count": 15,
      "metadata": {
        "colab": {
          "base_uri": "https://localhost:8080/",
          "height": 296
        },
        "id": "RzBskjdBF-mK",
        "outputId": "d6f6a274-3df5-4d9e-a483-e3c237fec2e4"
      },
      "outputs": [
        {
          "data": {
            "image/png": "[encoded data removed]",
            "text/plain": [
              "<Figure size 432x288 with 1 Axes>"
            ]
          },
          "metadata": {
            "needs_background": "light"
          },
          "output_type": "display_data"
        }
      ],
      "source": [
        "ncorr_feature1, ncorr_feature2 = not_correlated.index[0]\n",
        "\n",
        "ax = plt.subplot()\n",
        "ax.scatter(data[ncorr_feature1], data[ncorr_feature2])\n",
        "ax.set_xlabel(corr_feature1)\n",
        "ax.set_ylabel(corr_feature2)\n",
        "ax.set_title('Diagrama de dispersión')\n",
        "ax.grid(True)\n",
        "plt.show()"
      ]
    }
  ],
  "metadata": {
    "colab": {
      "collapsed_sections": [],
      "name": "Tarea 1.ipynb",
      "provenance": []
    },
    "interpreter": {
      "hash": "087fb417366d3a42c2f3ccbb365219677c016110ebcf8a38ac549888ca9794e1"
    },
    "kernelspec": {
      "display_name": "Python 3.9.7 64-bit ('sci-env': conda)",
      "name": "python3"
    },
    "language_info": {
      "codemirror_mode": {
        "name": "ipython",
        "version": 3
      },
      "file_extension": ".py",
      "mimetype": "text/x-python",
      "name": "python",
      "nbconvert_exporter": "python",
      "pygments_lexer": "ipython3",
      "version": "3.9.7"
    }
  },
  "nbformat": 4,
  "nbformat_minor": 0
}
